{
  "nbformat": 4,
  "nbformat_minor": 0,
  "metadata": {
    "colab": {
      "provenance": [],
      "authorship_tag": "ABX9TyOfg2vi+63oEHU4briYlwWD",
      "include_colab_link": true
    },
    "kernelspec": {
      "name": "python3",
      "display_name": "Python 3"
    },
    "language_info": {
      "name": "python"
    }
  },
  "cells": [
    {
      "cell_type": "markdown",
      "metadata": {
        "id": "view-in-github",
        "colab_type": "text"
      },
      "source": [
        "<a href=\"https://colab.research.google.com/github/CoCoYess/CLASE-DE-PROGRAMACION/blob/main/ANALISIS_DE_PARENTESIS.ipynb\" target=\"_parent\"><img src=\"https://colab.research.google.com/assets/colab-badge.svg\" alt=\"Open In Colab\"/></a>"
      ]
    },
    {
      "cell_type": "code",
      "execution_count": 1,
      "metadata": {
        "colab": {
          "base_uri": "https://localhost:8080/"
        },
        "id": "GcB1OVO7usES",
        "outputId": "64e411c3-ad8a-4ca7-a2bb-7e9b281836e3"
      },
      "outputs": [
        {
          "output_type": "stream",
          "name": "stdout",
          "text": [
            "Por favor, ingresa la secuencia de paréntesis a analizar: 8998989))\n",
            "False La cadena se rechaza porque hay un paréntesis de cierre sin un paréntesis de apertura correspondiente.\n"
          ]
        }
      ],
      "source": [
        "#FACULTAD DE CIENCIAS UNAM\n",
        "#Programación - Grupo 9156\n",
        "#Nava Badillo Yessica Isabel.\n",
        "\n",
        "# Definimos la función 'secuencia_de_parentesis_bien_formados' que toma una cadena de caracteres 'secuencia' como entrada.\n",
        "def secuencia_de_parentesis_bien_formados(secuencia)-> bool:\n",
        "    # Inicializamos un contador en 0. Este contador llevará la cuenta de los paréntesis abiertos que aún no se han cerrado.\n",
        "    counter = 0\n",
        "\n",
        "    # revisamos cada carácter en la cadena de entrada.\n",
        "    for parentesis in secuencia:\n",
        "        # Si el carácter es un paréntesis de apertura, agregamos 1 al contador.\n",
        "        if parentesis == \"(\":\n",
        "            counter += 1\n",
        "        # Si el carácter es un paréntesis de cierre, restamos 1 al contador.\n",
        "        elif parentesis == \")\":\n",
        "            counter -= 1\n",
        "\n",
        "        # Si en algún momento el contador es negativo, significa que hay un paréntesis de cierre sin un paréntesis de apertura correspondiente.\n",
        "        # En este caso, devolvemos False y un mensaje de error.\n",
        "        if counter < 0:\n",
        "            return False, \"La cadena se rechaza porque hay un paréntesis de cierre sin un paréntesis de apertura correspondiente.\"\n",
        "\n",
        "    # Si después de recorrer toda la cadena el contador es 0, significa que todos los paréntesis están bien formados y devolvemos True.\n",
        "    if counter == 0:\n",
        "        return True, \"\"\n",
        "    # Si el contador no es 0, significa que hay un paréntesis de apertura sin un paréntesis de cierre correspondiente.\n",
        "    # En este caso, devolvemos False y un mensaje de error.\n",
        "    else:\n",
        "        return False, \"La cadena se rechaza porque hay un paréntesis de apertura sin un paréntesis de cierre correspondiente.\"\n",
        "\n",
        "# interaccion con el lector, para ingresar la secuencia de paréntesis a analizar.\n",
        "secuencia_usuario = input(\"Por favor, ingresa la secuencia de paréntesis a analizar: \")\n",
        "\n",
        "# Llamamos a la función con la secuencia ingresada por el usuario.\n",
        "resultado, mensaje = secuencia_de_parentesis_bien_formados(secuencia_usuario)\n",
        "\n",
        "# Imprimimos el resultado.\n",
        "print(resultado, mensaje)"
      ]
    }
  ]
}